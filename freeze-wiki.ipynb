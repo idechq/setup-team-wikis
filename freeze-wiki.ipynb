{
 "cells": [
  {
   "cell_type": "code",
   "execution_count": null,
   "metadata": {},
   "outputs": [],
   "source": [
    "import requests\n",
    "import datetime\n",
    "import json\n",
    "import pandas as pd"
   ]
  },
  {
   "cell_type": "code",
   "execution_count": null,
   "metadata": {},
   "outputs": [],
   "source": [
    "# get token\n",
    "\n",
    "env_file = open(\".env\", mode=\"r\")\n",
    "\n",
    "token = env_file.read().split(\"=\")[1]"
   ]
  },
  {
   "cell_type": "code",
   "execution_count": null,
   "metadata": {},
   "outputs": [],
   "source": [
    "headers = {\n",
    "    'Authorization': f\"token {token}\",\n",
    "    'accept': \"application/vnd.github.v3+json\",\n",
    "}\n",
    "base_url = \"https://api.github.com\"\n",
    "current_year = datetime.datetime.now().year\n",
    "owner = \"idec-teams\""
   ]
  },
  {
   "cell_type": "code",
   "execution_count": null,
   "metadata": {},
   "outputs": [],
   "source": [
    "gh_session = requests.Session()\n",
    "gh_session.headers.update(headers)"
   ]
  },
  {
   "cell_type": "code",
   "execution_count": null,
   "metadata": {},
   "outputs": [],
   "source": [
    "# get all repositories under current year\n",
    "get_repos_url = f\"{base_url}/orgs/idec-teams/repos\"\n",
    "get_repos_response = gh_session.get(get_repos_url)\n",
    "print (f\"status code: {get_repos_response.status_code}\")\n",
    "response_json = get_repos_response.json()\n",
    "current_year_repos = [response_item['name'] for response_item in response_json if f\"{current_year}_\" in response_item['name']]\n",
    "current_year_repos = [repo for repo in current_year_repos if \"trevor\" not in repo]\n",
    "\n",
    "print(f\"{current_year} repositories:\")\n",
    "\n",
    "for repo in current_year_repos:\n",
    "    print(f\"\\t{repo}\")"
   ]
  },
  {
   "cell_type": "code",
   "execution_count": null,
   "metadata": {},
   "outputs": [],
   "source": [
    "# For checking user permissions\n",
    "# Re run this cell after wiki-freeze to determine if wiki-freeze change was successful\n",
    "\n",
    "get_user_permission_responses_output = list()\n",
    "\n",
    "for repo in current_year_repos:\n",
    "    get_repo_collaborators = f\"{base_url}/repos/{owner}/{repo}/collaborators\"\n",
    "    get_repo_collaborators_response = gh_session.get(get_repo_collaborators)\n",
    "\n",
    "    response_json = get_repo_collaborators_response.json()\n",
    "    collaborators = [response_item['login'] for response_item in response_json if response_item['permissions']['admin']==False]\n",
    "    collaborators = [collaborator for collaborator in collaborators if collaborator != \"idechq-bot\"]\n",
    "\n",
    "    for username in collaborators:\n",
    "        get_collaborators_permission_url = f\"{base_url}/repos/{owner}/{repo}/collaborators/{username}/permission\"\n",
    "        get_user_permission_response = gh_session.get(get_collaborators_permission_url)\n",
    "        get_user_permission_responses_output.append(\n",
    "            {\"repo\": repo,\n",
    "            \"username\": username,\n",
    "            \"response\": get_user_permission_response.status_code,\n",
    "            \"permission\": get_user_permission_response.json()['permission']\n",
    "            }\n",
    "        )\n",
    "\n",
    "pd.DataFrame(get_user_permission_responses_output)"
   ]
  },
  {
   "cell_type": "code",
   "execution_count": null,
   "metadata": {},
   "outputs": [],
   "source": [
    "# Wiki freeze command\n",
    "\n",
    "update_user_responses_output = list()\n",
    "\n",
    "for repo in current_year_repos:\n",
    "    get_repo_collaborators = f\"{base_url}/repos/{owner}/{repo}/collaborators\"\n",
    "    get_repo_collaborators_response = gh_session.get(get_repo_collaborators)\n",
    "\n",
    "    response_json = get_repo_collaborators_response.json()\n",
    "    collaborators = [response_item['login'] for response_item in response_json if response_item['permissions']['admin']==False]\n",
    "    collaborators = [collaborator for collaborator in collaborators if collaborator != \"idechq-bot\"]\n",
    "\n",
    "    for username in collaborators:\n",
    "        update_collaborator_url = f\"{base_url}/repos/{owner}/{repo}/collaborators/{username}\"\n",
    "        update_user_response = gh_session.put(update_collaborator_url,\n",
    "                                data=json.dumps({\"permission\": \"pull\"})\n",
    "                                )\n",
    "        update_user_responses_output.append(\n",
    "            {\"repo\": repo,\n",
    "            \"username\": username,\n",
    "            \"response\": update_user_response.status_code,\n",
    "            }\n",
    "        )\n",
    "\n",
    "pd.DataFrame(update_user_responses_output)"
   ]
  }
 ],
 "metadata": {
  "kernelspec": {
   "display_name": "Python 3.10.6 ('base')",
   "language": "python",
   "name": "python3"
  },
  "language_info": {
   "codemirror_mode": {
    "name": "ipython",
    "version": 3
   },
   "file_extension": ".py",
   "mimetype": "text/x-python",
   "name": "python",
   "nbconvert_exporter": "python",
   "pygments_lexer": "ipython3",
   "version": "3.10.6"
  },
  "orig_nbformat": 4,
  "vscode": {
   "interpreter": {
    "hash": "334c95b6b00d5b7ea8903d72e0c358cf70996c44a7001545d443387f8c1bef1b"
   }
  }
 },
 "nbformat": 4,
 "nbformat_minor": 2
}
